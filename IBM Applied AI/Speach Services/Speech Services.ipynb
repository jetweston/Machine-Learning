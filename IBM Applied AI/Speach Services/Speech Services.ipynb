{
 "cells": [
  {
   "cell_type": "code",
   "execution_count": null,
   "id": "f52aaf1a",
   "metadata": {},
   "outputs": [],
   "source": [
    "import os\n",
    "\n",
    "from glob import glob\n",
    "\n",
    "from bs4 import BeautifulSoup\n",
    "\n",
    "import IPython\n",
    "\n",
    "from ibm_cloud_sdk_core.authenticators import IAMAuthenticator\n",
    "\n",
    "from ibm_watson import SpeechToTextV1\n",
    "\n",
    "from ibm_watson import AssistantV2\n",
    "\n",
    "from ibm_watson import TextToSpeechV1\n",
    "\n",
    "recognition_service = SpeechToTextV1(IAMAuthenticator('{YOUR_APIKEY}'))\n",
    "recognition_service.set_service_url('{YOUR_ENDPOINT}')\n",
    "SPEECH_EXTENSION = \"*.webm\"\n",
    "SPEECH_AUDIOTYPE = \"audio/webm\"\n",
    "\n",
    "def recognize_audio():\n",
    "    while len(glob(SPEECH_EXTENSION)) == 0:\n",
    "        pass\n",
    "    filename = glob(SPEECH_EXTENSION)[0]\n",
    "    audio_file = open(filename, \"rb\")\n",
    "    os.popen(\"rm \" + filename)\n",
    "    result = recognition_service.recognize(audio=audio_file, content_type=SPEECH_AUDIOTYPE).get_result()\n",
    "    return result[\"results\"][0][\"alternatives\"][0][\"transcript\"]\n",
    "\n",
    "\n",
    "assistant = AssistantV2(version='2019-02-28', authenticator=IAMAuthenticator('{YOUR_APIKEY}'))\n",
    "assistant.set_service_url('{YOUR_ENDPOINT}')\n",
    "ASSISTANT_ID = \"{YOUR_ASSISTANT_ID}\"\n",
    "session_id = assistant.create_session(assistant_id =ASSISTANT_ID).get_result()[\"session_id\"]\n",
    "\n",
    "def message_assistant(text):\n",
    "    response = assistant.message(assistant_id=ASSISTANT_ID,\n",
    "                                 session_id=session_id,\n",
    "                                 input={'message_type': 'text', 'text': text}).get_result()\n",
    "    return BeautifulSoup(response[\"output\"][\"generic\"][0][\"text\"]).get_text()\n",
    "\n",
    "synthesis_service = TextToSpeechV1(IAMAuthenticator('{YOUR_APIKEY}'))\n",
    "synthesis_service.set_service_url('{YOUR_ENDPOINT}')\n",
    "\n",
    "def speak_text(text):\n",
    "    with open('temp.wav', 'wb') as audio_file:\n",
    "        response = synthesis_service.synthesize(text, accept='audio/wav', voice=\"en-US_AllisonV3Voice\").get_result()\n",
    "        audio_file.write(response.content)\n",
    "    return IPython.display.Audio(\"temp.wav\", autoplay=True)\n",
    "\n",
    "\n",
    "\n",
    "speak_text(message_assistant(recognize_audio()))\n"
   ]
  }
 ],
 "metadata": {
  "kernelspec": {
   "display_name": "Python 3",
   "language": "python",
   "name": "python3"
  },
  "language_info": {
   "codemirror_mode": {
    "name": "ipython",
    "version": 3
   },
   "file_extension": ".py",
   "mimetype": "text/x-python",
   "name": "python",
   "nbconvert_exporter": "python",
   "pygments_lexer": "ipython3",
   "version": "3.9.5"
  }
 },
 "nbformat": 4,
 "nbformat_minor": 5
}
